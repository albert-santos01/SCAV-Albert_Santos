{
 "cells": [
  {
   "cell_type": "code",
   "execution_count": 2,
   "metadata": {},
   "outputs": [
    {
     "name": "stdout",
     "output_type": "stream",
     "text": [
      "big_buck_bunny.mp4\n",
      "big_buck_bunny\n",
      "data/big_buck_bunny.mp4\n",
      "data/\n",
      "<class 'str'>\n",
      "big_buck_bunny.mp4\n"
     ]
    },
    {
     "name": "stderr",
     "output_type": "stream",
     "text": [
      "Input #0, mov,mp4,m4a,3gp,3g2,mj2, from 'data/big_buck_bunny.mp4':\n",
      "  Metadata:\n",
      "    major_brand     : isom\n",
      "    minor_version   : 512\n",
      "    compatible_brands: isomiso2avc1mp41\n",
      "    encoder         : Lavf54.29.104\n",
      "  Duration: 00:10:34.58, start: 0.000000, bitrate: 4279 kb/s\n",
      "  Stream #0:0[0x1](und): Video: h264 (High) (avc1 / 0x31637661), yuv420p(progressive), 1920x1080 [SAR 1:1 DAR 16:9], 4141 kb/s, 60 fps, 60 tbr, 90k tbn (default)\n",
      "    Metadata:\n",
      "      handler_name    : VideoHandler\n",
      "      vendor_id       : [0][0][0][0]\n",
      "  Stream #0:1[0x2](und): Audio: aac (LC) (mp4a / 0x6134706D), 44100 Hz, stereo, fltp, 125 kb/s (default)\n",
      "    Metadata:\n",
      "      handler_name    : SoundHandler\n",
      "      vendor_id       : [0][0][0][0]\n",
      "Stream mapping:\n",
      "  Stream #0:1 -> #0:0 (aac (native) -> mp3 (libmp3lame))\n",
      "Press [q] to stop, [?] for help\n",
      "Output #0, mp3, to 'data/big_buck_bunny_audio.mp3':\n",
      "  Metadata:\n",
      "    major_brand     : isom\n",
      "    minor_version   : 512\n",
      "    compatible_brands: isomiso2avc1mp41\n",
      "    TSSE            : Lavf60.15.100\n",
      "  Stream #0:0(und): Audio: mp3, 44100 Hz, stereo, fltp (default)\n",
      "    Metadata:\n",
      "      handler_name    : SoundHandler\n",
      "      vendor_id       : [0][0][0][0]\n",
      "      encoder         : Lavc60.30.102 libmp3lame\n",
      "[out#0/mp3 @ 0x55e3d2d05a80] video:0kB audio:782kB subtitle:0kB other streams:0kB global headers:0kB muxing overhead: 0.044455%\n",
      "size=     782kB time=00:00:49.99 bitrate= 128.2kbits/s speed=9.84x    \n"
     ]
    }
   ],
   "source": [
    "import subprocess\n",
    "import sys\n",
    "from P3.lab3 import VideoAnalyzer\n",
    "\n",
    "input_path  = \"data/big_buck_bunny.mp4\"\n",
    "\n",
    "ffmpeg_command = [\n",
    "        'ffmpeg',\n",
    "            '-i', input_path,\n",
    "            '-vf', 'mpdecimate,drawgrid=w=16:h=16:t=2:c=red@0.5',\n",
    "            '-c:a', 'copy' + ' ' + '../data/Big_Buck_Bunny-macroblock.mp4',\n",
    "            '../data/Big_Buck_Bunny-macroblock.mp4'\n",
    "]\n",
    "    \n",
    "\n",
    "video_analyzer = VideoAnalyzer(input_path,\"ole.mp4\")\n",
    "print(video_analyzer.input_filename)\n",
    "print(video_analyzer.input_filename_no_ext)\n",
    "print(video_analyzer.input_path)\n",
    "print(video_analyzer.dir_path)\n",
    "# subprocess.run(ffmpeg_command)\n",
    "video_analyzer.extract_audio()"
   ]
  }
 ],
 "metadata": {
  "kernelspec": {
   "display_name": "Python 3",
   "language": "python",
   "name": "python3"
  },
  "language_info": {
   "codemirror_mode": {
    "name": "ipython",
    "version": 3
   },
   "file_extension": ".py",
   "mimetype": "text/x-python",
   "name": "python",
   "nbconvert_exporter": "python",
   "pygments_lexer": "ipython3",
   "version": "3.10.12"
  }
 },
 "nbformat": 4,
 "nbformat_minor": 2
}
