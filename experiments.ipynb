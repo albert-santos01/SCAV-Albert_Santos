{
 "cells": [
  {
   "cell_type": "code",
   "execution_count": 2,
   "metadata": {},
   "outputs": [
    {
     "name": "stdout",
     "output_type": "stream",
     "text": [
      "big_buck_bunny.mp4\n",
      "big_buck_bunny\n",
      "data/big_buck_bunny.mp4\n",
      "data/\n",
      "<class 'str'>\n",
      "big_buck_bunny.mp4\n"
     ]
    },
    {
     "name": "stderr",
     "output_type": "stream",
     "text": [
      "Input #0, mov,mp4,m4a,3gp,3g2,mj2, from 'data/big_buck_bunny.mp4':\n",
      "  Metadata:\n",
      "    major_brand     : isom\n",
      "    minor_version   : 512\n",
      "    compatible_brands: isomiso2avc1mp41\n",
      "    encoder         : Lavf54.29.104\n",
      "  Duration: 00:10:34.58, start: 0.000000, bitrate: 4279 kb/s\n",
      "  Stream #0:0[0x1](und): Video: h264 (High) (avc1 / 0x31637661), yuv420p(progressive), 1920x1080 [SAR 1:1 DAR 16:9], 4141 kb/s, 60 fps, 60 tbr, 90k tbn (default)\n",
      "    Metadata:\n",
      "      handler_name    : VideoHandler\n",
      "      vendor_id       : [0][0][0][0]\n",
      "  Stream #0:1[0x2](und): Audio: aac (LC) (mp4a / 0x6134706D), 44100 Hz, stereo, fltp, 125 kb/s (default)\n",
      "    Metadata:\n",
      "      handler_name    : SoundHandler\n",
      "      vendor_id       : [0][0][0][0]\n",
      "Stream mapping:\n",
      "  Stream #0:1 -> #0:0 (aac (native) -> mp3 (libmp3lame))\n",
      "Press [q] to stop, [?] for help\n",
      "Output #0, mp3, to 'data/big_buck_bunny_audio.mp3':\n",
      "  Metadata:\n",
      "    major_brand     : isom\n",
      "    minor_version   : 512\n",
      "    compatible_brands: isomiso2avc1mp41\n",
      "    TSSE            : Lavf60.15.100\n",
      "  Stream #0:0(und): Audio: mp3, 44100 Hz, stereo, fltp (default)\n",
      "    Metadata:\n",
      "      handler_name    : SoundHandler\n",
      "      vendor_id       : [0][0][0][0]\n",
      "      encoder         : Lavc60.30.102 libmp3lame\n",
      "[out#0/mp3 @ 0x55e3d2d05a80] video:0kB audio:782kB subtitle:0kB other streams:0kB global headers:0kB muxing overhead: 0.044455%\n",
      "size=     782kB time=00:00:49.99 bitrate= 128.2kbits/s speed=9.84x    \n"
     ]
    }
   ],
   "source": [
    "import subprocess\n",
    "import sys\n",
    "from P3.lab3 import VideoAnalyzer\n",
    "\n",
    "input_path  = \"data/big_buck_bunny.mp4\"\n",
    "\n",
    "ffmpeg_command = [\n",
    "        'ffmpeg',\n",
    "            '-i', input_path,\n",
    "            '-vf', 'mpdecimate,drawgrid=w=16:h=16:t=2:c=red@0.5',\n",
    "            '-c:a', 'copy' + ' ' + '../data/Big_Buck_Bunny-macroblock.mp4',\n",
    "            '../data/Big_Buck_Bunny-macroblock.mp4'\n",
    "]\n",
    "    \n",
    "\n",
    "video_analyzer = VideoAnalyzer(input_path,\"ole.mp4\")\n",
    "print(video_analyzer.input_filename)\n",
    "print(video_analyzer.input_filename_no_ext)\n",
    "print(video_analyzer.input_path)\n",
    "print(video_analyzer.dir_path)\n",
    "# subprocess.run(ffmpeg_command)\n",
    "video_analyzer.extract_audio()"
   ]
  },
  {
   "cell_type": "code",
   "execution_count": 4,
   "metadata": {},
   "outputs": [
    {
     "ename": "SyntaxError",
     "evalue": "incomplete input (351526494.py, line 2)",
     "output_type": "error",
     "traceback": [
      "\u001b[0;36m  Cell \u001b[0;32mIn[4], line 2\u001b[0;36m\u001b[0m\n\u001b[0;31m    priny(\"Hello World! I'm a Jupyter Notebook! :) \"\u001b[0m\n\u001b[0m                                                    ^\u001b[0m\n\u001b[0;31mSyntaxError\u001b[0m\u001b[0;31m:\u001b[0m incomplete input\n"
     ]
    }
   ],
   "source": [
    "print(\"Hello World! I'm a Jupyter Notebook! :) \")\n",
    "priny(\"Hello World! I'm a Jupyter Notebook! :) \""
   ]
  },
  {
   "cell_type": "code",
   "execution_count": 6,
   "metadata": {},
   "outputs": [
    {
     "name": "stdout",
     "output_type": "stream",
     "text": [
      "FinQAmAILTBiTferj61g0mjf0V3\n",
      "0bb8ad4e6a98af12\n",
      "129241752\n",
      "[{'MatchedBy': 'moviehash', 'IDSubMovieFile': '20340221', 'MovieHash': '0bb8ad4e6a98af12', 'MovieByteSize': '129241752', 'MovieTimeMS': '888064', 'IDSubtitleFile': '1956697263', 'SubFileName': 'Star.Wars.Episode.IX.The.Rise.of.Skywalker.2020.BDRip.XviD.AC3-EVO.srt', 'SubActualCD': '1', 'SubSize': '102611', 'SubHash': 'eab4855f5232532d7fd3ee041baef64a', 'SubLastTS': '02:12:25', 'SubTSGroup': '29', 'InfoReleaseGroup': 'EVO', 'InfoFormat': 'BluRay', 'InfoOther': '', 'IDSubtitle': '8128704', 'UserID': '5634869', 'SubLanguageID': 'eng', 'SubFormat': 'srt', 'SubSumCD': '1', 'SubAuthorComment': '', 'SubAddDate': '2020-03-15 17:46:01', 'SubBad': '0', 'SubRating': '10.0', 'SubSumVotes': '5', 'SubDownloadsCnt': '298363', 'MovieReleaseName': '1080p.BluRay.x264.AAC5.1-[YTS.MX]', 'MovieFPS': '23.976', 'IDMovie': '711275', 'IDMovieImdb': '2527338', 'MovieName': 'Star Wars: Episode IX - The Rise of Skywalker', 'MovieNameEng': '', 'MovieYear': '2019', 'MovieImdbRating': '6.4', 'SubFeatured': '1', 'UserNickName': 'explosiveskull', 'SubTranslator': '', 'ISO639': 'en', 'LanguageName': 'English', 'SubComments': '0', 'SubHearingImpaired': '0', 'UserRank': 'subtranslator', 'SeriesSeason': '0', 'SeriesEpisode': '0', 'MovieKind': 'movie', 'SubHD': '1', 'SeriesIMDBParent': '0', 'SubEncoding': 'UTF-8', 'SubAutoTranslation': '0', 'SubForeignPartsOnly': '0', 'SubFromTrusted': '1', 'QueryCached': 1, 'SubTSGroupHash': 'cdc11fa1860b30aae8344023cfe732fb', 'SubDownloadLink': 'http://dl.opensubtitles.org/en/download/src-api/vrf-19f20c5f/sid-FinQAmAILTBiTferj61g0mjf0V3/filead/1956697263.gz', 'ZipDownloadLink': 'http://dl.opensubtitles.org/en/download/src-api/vrf-f54a0bb7/sid-FinQAmAILTBiTferj61g0mjf0V3/subad/8128704', 'SubtitlesLink': 'http://www.opensubtitles.org/en/subtitles/8128704/sid-FinQAmAILTBiTferj61g0mjf0V3/star-wars-episode-ix-the-rise-of-skywalker-en', 'QueryNumber': '0', 'QueryParameters': {'moviehash': '0bb8ad4e6a98af12', 'moviebytesize': 129241752, 'sublanguageid': 'eng'}, 'Score': 109.98363}, {'MatchedBy': 'moviehash', 'IDSubMovieFile': '4458211', 'MovieHash': '0bb8ad4e6a98af12', 'MovieByteSize': '129241752', 'MovieTimeMS': '888000', 'IDSubtitleFile': '1952537611', 'SubFileName': 'sintel_en.srt', 'SubActualCD': '1', 'SubSize': '1514', 'SubHash': '4c090a6f7e51953cb69a35d50ad49c20', 'SubLastTS': '00:10:26', 'SubTSGroup': '1', 'InfoReleaseGroup': '', 'InfoFormat': '', 'InfoOther': '', 'IDSubtitle': '3871796', 'UserID': '1012060', 'SubLanguageID': 'eng', 'SubFormat': 'srt', 'SubSumCD': '1', 'SubAuthorComment': '', 'SubAddDate': '2010-10-07 18:50:30', 'SubBad': '0', 'SubRating': '0.0', 'SubSumVotes': '0', 'SubDownloadsCnt': '7262', 'MovieReleaseName': '', 'MovieFPS': '24.000', 'IDMovie': '61435', 'IDMovieImdb': '1727587', 'MovieName': 'Sintel', 'MovieNameEng': '', 'MovieYear': '2010', 'MovieImdbRating': '7.6', 'SubFeatured': '0', 'UserNickName': 'SuperMau', 'SubTranslator': '', 'ISO639': 'en', 'LanguageName': 'English', 'SubComments': '0', 'SubHearingImpaired': '0', 'UserRank': 'trusted', 'SeriesSeason': '0', 'SeriesEpisode': '0', 'MovieKind': 'movie', 'SubHD': '0', 'SeriesIMDBParent': '0', 'SubEncoding': 'ASCII', 'SubAutoTranslation': '0', 'SubForeignPartsOnly': '0', 'SubFromTrusted': '1', 'QueryCached': 1, 'SubTSGroupHash': 'a01c28572e6d59f123d54f663876d0e3', 'SubDownloadLink': 'http://dl.opensubtitles.org/en/download/src-api/vrf-19b20c51/sid-FinQAmAILTBiTferj61g0mjf0V3/filead/1952537611.gz', 'ZipDownloadLink': 'http://dl.opensubtitles.org/en/download/src-api/vrf-f5620bc2/sid-FinQAmAILTBiTferj61g0mjf0V3/subad/3871796', 'SubtitlesLink': 'http://www.opensubtitles.org/en/subtitles/3871796/sid-FinQAmAILTBiTferj61g0mjf0V3/sintel-en', 'QueryNumber': '0', 'QueryParameters': {'moviehash': '0bb8ad4e6a98af12', 'moviebytesize': 129241752, 'sublanguageid': 'eng'}, 'Score': 103.07262}]\n",
      "8128704\n",
      "1956697263\n",
      "20340221\n"
     ]
    },
    {
     "data": {
      "text/plain": [
       "{'1956697263': 'data/sintel_subtitles.srt'}"
      ]
     },
     "execution_count": 6,
     "metadata": {},
     "output_type": "execute_result"
    }
   ],
   "source": [
    "from pythonopensubtitles.opensubtitles import OpenSubtitles\n",
    "from pythonopensubtitles.utils import File\n",
    "\n",
    "ost = OpenSubtitles()\n",
    "token = ost.login('albert_scav', 'albertSCAV123$')\n",
    "print(token)\n",
    "file = File('data/sintel-1024-surround.mp4')\n",
    "hash = file.get_hash()\n",
    "print(hash)\n",
    "size = file.size\n",
    "assert type(size) == str  # As str is easier to deal with long sizes\n",
    "print(size)\n",
    "data = ost.search_subtitles([{'sublanguageid': 'eng', 'moviehash': hash, 'moviebytesize': size}])\n",
    "assert type(data) == list\n",
    "print(data)\n",
    "id_subtitle = data[0].get('IDSubtitle')\n",
    "id_subtitle_file = data[0].get('IDSubtitleFile')\n",
    "id_sub_movie_file = data[0].get('IDSubMovieFile')\n",
    "print(id_subtitle)\n",
    "print(id_subtitle_file)\n",
    "print(id_sub_movie_file)\n",
    "ost.download_subtitles([id_subtitle_file],override_filenames={id_subtitle_file: 'sintel_subtitles.srt'},output_directory='data', extension='srt')"
   ]
  },
  {
   "cell_type": "code",
   "execution_count": 1,
   "metadata": {},
   "outputs": [
    {
     "ename": "ModuleNotFoundError",
     "evalue": "No module named 'tkinter'",
     "output_type": "error",
     "traceback": [
      "\u001b[0;31m---------------------------------------------------------------------------\u001b[0m",
      "\u001b[0;31mModuleNotFoundError\u001b[0m                       Traceback (most recent call last)",
      "\u001b[1;32m/home/albert/repos/SCAV-Albert_Santos/experiments.ipynb Cell 4\u001b[0m line \u001b[0;36m1\n\u001b[0;32m----> <a href='vscode-notebook-cell://wsl%2Bubuntu/home/albert/repos/SCAV-Albert_Santos/experiments.ipynb#W4sdnNjb2RlLXJlbW90ZQ%3D%3D?line=0'>1</a>\u001b[0m \u001b[39mimport\u001b[39;00m \u001b[39mtkinter\u001b[39;00m \u001b[39mas\u001b[39;00m \u001b[39mtk\u001b[39;00m\n\u001b[1;32m      <a href='vscode-notebook-cell://wsl%2Bubuntu/home/albert/repos/SCAV-Albert_Santos/experiments.ipynb#W4sdnNjb2RlLXJlbW90ZQ%3D%3D?line=1'>2</a>\u001b[0m \u001b[39mfrom\u001b[39;00m \u001b[39mtkinter\u001b[39;00m \u001b[39mimport\u001b[39;00m filedialog\n\u001b[1;32m      <a href='vscode-notebook-cell://wsl%2Bubuntu/home/albert/repos/SCAV-Albert_Santos/experiments.ipynb#W4sdnNjb2RlLXJlbW90ZQ%3D%3D?line=3'>4</a>\u001b[0m \u001b[39mdef\u001b[39;00m \u001b[39mchoose_file\u001b[39m():\n",
      "\u001b[0;31mModuleNotFoundError\u001b[0m: No module named 'tkinter'"
     ]
    }
   ],
   "source": [
    "import tkinter as tk\n",
    "from tkinter import filedialog\n",
    "\n",
    "def choose_file():\n",
    "    file_path = filedialog.askopenfilename()\n",
    "    # Do something with the file_path, e.g., pass it to ffmpeg\n",
    "\n",
    "root = tk.Tk()\n",
    "btn = tk.Button(root, text=\"Choose File\", command=choose_file)\n",
    "btn.pack()\n",
    "root.mainloop()\n"
   ]
  }
 ],
 "metadata": {
  "kernelspec": {
   "display_name": "Python 3",
   "language": "python",
   "name": "python3"
  },
  "language_info": {
   "codemirror_mode": {
    "name": "ipython",
    "version": 3
   },
   "file_extension": ".py",
   "mimetype": "text/x-python",
   "name": "python",
   "nbconvert_exporter": "python",
   "pygments_lexer": "ipython3",
   "version": "3.10.12"
  }
 },
 "nbformat": 4,
 "nbformat_minor": 2
}
