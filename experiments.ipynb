{
 "cells": [
  {
   "cell_type": "code",
   "execution_count": 2,
   "metadata": {},
   "outputs": [
    {
     "name": "stdout",
     "output_type": "stream",
     "text": [
      "big_buck_bunny.mp4\n",
      "big_buck_bunny\n",
      "data/big_buck_bunny.mp4\n",
      "data/\n",
      "<class 'str'>\n",
      "big_buck_bunny.mp4\n"
     ]
    },
    {
     "name": "stderr",
     "output_type": "stream",
     "text": [
      "Input #0, mov,mp4,m4a,3gp,3g2,mj2, from 'data/big_buck_bunny.mp4':\n",
      "  Metadata:\n",
      "    major_brand     : isom\n",
      "    minor_version   : 512\n",
      "    compatible_brands: isomiso2avc1mp41\n",
      "    encoder         : Lavf54.29.104\n",
      "  Duration: 00:10:34.58, start: 0.000000, bitrate: 4279 kb/s\n",
      "  Stream #0:0[0x1](und): Video: h264 (High) (avc1 / 0x31637661), yuv420p(progressive), 1920x1080 [SAR 1:1 DAR 16:9], 4141 kb/s, 60 fps, 60 tbr, 90k tbn (default)\n",
      "    Metadata:\n",
      "      handler_name    : VideoHandler\n",
      "      vendor_id       : [0][0][0][0]\n",
      "  Stream #0:1[0x2](und): Audio: aac (LC) (mp4a / 0x6134706D), 44100 Hz, stereo, fltp, 125 kb/s (default)\n",
      "    Metadata:\n",
      "      handler_name    : SoundHandler\n",
      "      vendor_id       : [0][0][0][0]\n",
      "Stream mapping:\n",
      "  Stream #0:1 -> #0:0 (aac (native) -> mp3 (libmp3lame))\n",
      "Press [q] to stop, [?] for help\n",
      "Output #0, mp3, to 'data/big_buck_bunny_audio.mp3':\n",
      "  Metadata:\n",
      "    major_brand     : isom\n",
      "    minor_version   : 512\n",
      "    compatible_brands: isomiso2avc1mp41\n",
      "    TSSE            : Lavf60.15.100\n",
      "  Stream #0:0(und): Audio: mp3, 44100 Hz, stereo, fltp (default)\n",
      "    Metadata:\n",
      "      handler_name    : SoundHandler\n",
      "      vendor_id       : [0][0][0][0]\n",
      "      encoder         : Lavc60.30.102 libmp3lame\n",
      "[out#0/mp3 @ 0x55e3d2d05a80] video:0kB audio:782kB subtitle:0kB other streams:0kB global headers:0kB muxing overhead: 0.044455%\n",
      "size=     782kB time=00:00:49.99 bitrate= 128.2kbits/s speed=9.84x    \n"
     ]
    }
   ],
   "source": [
    "import subprocess\n",
    "import sys\n",
    "from P3.lab3 import VideoAnalyzer\n",
    "\n",
    "input_path  = \"data/big_buck_bunny.mp4\"\n",
    "\n",
    "ffmpeg_command = [\n",
    "        'ffmpeg',\n",
    "            '-i', input_path,\n",
    "            '-vf', 'mpdecimate,drawgrid=w=16:h=16:t=2:c=red@0.5',\n",
    "            '-c:a', 'copy' + ' ' + '../data/Big_Buck_Bunny-macroblock.mp4',\n",
    "            '../data/Big_Buck_Bunny-macroblock.mp4'\n",
    "]\n",
    "    \n",
    "\n",
    "video_analyzer = VideoAnalyzer(input_path,\"ole.mp4\")\n",
    "print(video_analyzer.input_filename)\n",
    "print(video_analyzer.input_filename_no_ext)\n",
    "print(video_analyzer.input_path)\n",
    "print(video_analyzer.dir_path)\n",
    "# subprocess.run(ffmpeg_command)\n",
    "video_analyzer.extract_audio()"
   ]
  },
  {
   "cell_type": "code",
   "execution_count": 4,
   "metadata": {},
   "outputs": [
    {
     "ename": "SyntaxError",
     "evalue": "incomplete input (351526494.py, line 2)",
     "output_type": "error",
     "traceback": [
      "\u001b[0;36m  Cell \u001b[0;32mIn[4], line 2\u001b[0;36m\u001b[0m\n\u001b[0;31m    priny(\"Hello World! I'm a Jupyter Notebook! :) \"\u001b[0m\n\u001b[0m                                                    ^\u001b[0m\n\u001b[0;31mSyntaxError\u001b[0m\u001b[0;31m:\u001b[0m incomplete input\n"
     ]
    }
   ],
   "source": [
    "print(\"Hello World! I'm a Jupyter Notebook! :) \")\n",
    "priny(\"Hello World! I'm a Jupyter Notebook! :) \""
   ]
  },
  {
   "cell_type": "code",
   "execution_count": 8,
   "metadata": {},
   "outputs": [
    {
     "name": "stdout",
     "output_type": "stream",
     "text": [
      "QaBR8I-yIdORO9LcDw6oagOGRga\n",
      "2ed059a525a94fcd\n",
      "310674005\n",
      "[{'MatchedBy': 'moviehash', 'IDSubMovieFile': '1340963', 'MovieHash': '2ed059a525a94fcd', 'MovieByteSize': '310674005', 'MovieTimeMS': '0', 'IDSubtitleFile': '1952537611', 'SubFileName': 'sintel_en.srt', 'SubActualCD': '1', 'SubSize': '1514', 'SubHash': '4c090a6f7e51953cb69a35d50ad49c20', 'SubLastTS': '00:10:26', 'SubTSGroup': '1', 'InfoReleaseGroup': '', 'InfoFormat': '', 'InfoOther': '', 'IDSubtitle': '3871796', 'UserID': '1012060', 'SubLanguageID': 'eng', 'SubFormat': 'srt', 'SubSumCD': '1', 'SubAuthorComment': '', 'SubAddDate': '2010-10-07 18:50:30', 'SubBad': '0', 'SubRating': '0.0', 'SubSumVotes': '0', 'SubDownloadsCnt': '7262', 'MovieReleaseName': '', 'MovieFPS': '24.000', 'IDMovie': '61435', 'IDMovieImdb': '1727587', 'MovieName': 'Sintel', 'MovieNameEng': '', 'MovieYear': '2010', 'MovieImdbRating': '7.6', 'SubFeatured': '0', 'UserNickName': 'SuperMau', 'SubTranslator': '', 'ISO639': 'en', 'LanguageName': 'English', 'SubComments': '0', 'SubHearingImpaired': '0', 'UserRank': 'trusted', 'SeriesSeason': '0', 'SeriesEpisode': '0', 'MovieKind': 'movie', 'SubHD': '0', 'SeriesIMDBParent': '0', 'SubEncoding': 'ASCII', 'SubAutoTranslation': '0', 'SubForeignPartsOnly': '0', 'SubFromTrusted': '1', 'SubTSGroupHash': 'a01c28572e6d59f123d54f663876d0e3', 'SubDownloadLink': 'http://dl.opensubtitles.org/en/download/src-api/vrf-19b20c51/sid-QaBR8I-yIdORO9LcDw6oagOGRga/filead/1952537611.gz', 'ZipDownloadLink': 'http://dl.opensubtitles.org/en/download/src-api/vrf-f5620bc2/sid-QaBR8I-yIdORO9LcDw6oagOGRga/subad/3871796', 'SubtitlesLink': 'http://www.opensubtitles.org/en/subtitles/3871796/sid-QaBR8I-yIdORO9LcDw6oagOGRga/sintel-en', 'QueryNumber': '0', 'QueryParameters': {'moviehash': '2ed059a525a94fcd'}, 'Score': 103.07262}, {'MatchedBy': 'moviehash', 'IDSubMovieFile': '9485203', 'MovieHash': '2ed059a525a94fcd', 'MovieByteSize': '310674005', 'MovieTimeMS': '0', 'IDSubtitleFile': '1952527826', 'SubFileName': 'Sintel.2010.720p.SURROUND.x264-VODO.EL.srt', 'SubActualCD': '1', 'SubSize': '2021', 'SubHash': '7b7c5be81cdd89a86fb7fd5994ddd1a0', 'SubLastTS': '00:10:26', 'SubTSGroup': '1', 'InfoReleaseGroup': 'VODO.EL', 'InfoFormat': '', 'InfoOther': '', 'IDSubtitle': '3862663', 'UserID': '99949', 'SubLanguageID': 'ell', 'SubFormat': 'srt', 'SubSumCD': '1', 'SubAuthorComment': '', 'SubAddDate': '2010-10-02 11:20:20', 'SubBad': '0', 'SubRating': '0.0', 'SubSumVotes': '0', 'SubDownloadsCnt': '512', 'MovieReleaseName': 'Sintel.2010.720p.SURROUND.x264-VODO', 'MovieFPS': '24.000', 'IDMovie': '61435', 'IDMovieImdb': '1727587', 'MovieName': 'Sintel', 'MovieNameEng': '', 'MovieYear': '2010', 'MovieImdbRating': '7.6', 'SubFeatured': '0', 'UserNickName': 'TZOTZIOY', 'SubTranslator': '', 'ISO639': 'el', 'LanguageName': 'Greek', 'SubComments': '0', 'SubHearingImpaired': '0', 'UserRank': 'trusted', 'SeriesSeason': '0', 'SeriesEpisode': '0', 'MovieKind': 'movie', 'SubHD': '1', 'SeriesIMDBParent': '0', 'SubEncoding': 'UTF-8', 'SubAutoTranslation': '0', 'SubForeignPartsOnly': '0', 'SubFromTrusted': '1', 'SubTSGroupHash': 'a01c28572e6d59f123d54f663876d0e3', 'SubDownloadLink': 'http://dl.opensubtitles.org/en/download/src-api/vrf-19ba0c58/sid-QaBR8I-yIdORO9LcDw6oagOGRga/filead/1952527826.gz', 'ZipDownloadLink': 'http://dl.opensubtitles.org/en/download/src-api/vrf-f5550bbb/sid-QaBR8I-yIdORO9LcDw6oagOGRga/subad/3862663', 'SubtitlesLink': 'http://www.opensubtitles.org/en/subtitles/3862663/sid-QaBR8I-yIdORO9LcDw6oagOGRga/sintel-el', 'QueryNumber': '0', 'QueryParameters': {'moviehash': '2ed059a525a94fcd'}, 'Score': 103.00512}, {'MatchedBy': 'moviehash', 'IDSubMovieFile': '10587609', 'MovieHash': '2ed059a525a94fcd', 'MovieByteSize': '310674005', 'MovieTimeMS': '0', 'IDSubtitleFile': '1953329013', 'SubFileName': 'sintel.he.srt', 'SubActualCD': '1', 'SubSize': '2409', 'SubHash': 'aaf7167be5c5f32d240d66c7b254c6cd', 'SubLastTS': '00:10:26', 'SubTSGroup': '1', 'InfoReleaseGroup': '', 'InfoFormat': '', 'InfoOther': '', 'IDSubtitle': '4784578', 'UserID': '1475511', 'SubLanguageID': 'eng', 'SubFormat': 'srt', 'SubSumCD': '1', 'SubAuthorComment': '', 'SubAddDate': '2013-01-24 23:21:44', 'SubBad': '0', 'SubRating': '0.0', 'SubSumVotes': '0', 'SubDownloadsCnt': '1057', 'MovieReleaseName': ' sintel', 'MovieFPS': '0.000', 'IDMovie': '61435', 'IDMovieImdb': '1727587', 'MovieName': 'Sintel', 'MovieNameEng': '', 'MovieYear': '2010', 'MovieImdbRating': '7.6', 'SubFeatured': '0', 'UserNickName': 'clov4r', 'SubTranslator': '', 'ISO639': 'en', 'LanguageName': 'English', 'SubComments': '0', 'SubHearingImpaired': '0', 'UserRank': 'gold member', 'SeriesSeason': '0', 'SeriesEpisode': '0', 'MovieKind': 'movie', 'SubHD': '0', 'SeriesIMDBParent': '0', 'SubEncoding': 'UTF-8', 'SubAutoTranslation': '0', 'SubForeignPartsOnly': '0', 'SubFromTrusted': '0', 'SubTSGroupHash': 'a01c28572e6d59f123d54f663876d0e3', 'SubDownloadLink': 'http://dl.opensubtitles.org/en/download/src-api/vrf-19a00c4d/sid-QaBR8I-yIdORO9LcDw6oagOGRga/filead/1953329013.gz', 'ZipDownloadLink': 'http://dl.opensubtitles.org/en/download/src-api/vrf-f56c0bc4/sid-QaBR8I-yIdORO9LcDw6oagOGRga/subad/4784578', 'SubtitlesLink': 'http://www.opensubtitles.org/en/subtitles/4784578/sid-QaBR8I-yIdORO9LcDw6oagOGRga/sintel-en', 'QueryNumber': '0', 'QueryParameters': {'moviehash': '2ed059a525a94fcd'}, 'Score': 91.01057}, {'MatchedBy': 'moviehash', 'IDSubMovieFile': '10587579', 'MovieHash': '2ed059a525a94fcd', 'MovieByteSize': '310674005', 'MovieTimeMS': '0', 'IDSubtitleFile': '1952533551', 'SubFileName': 'sintel-ar.srt', 'SubActualCD': '1', 'SubSize': '1544', 'SubHash': '8376a481220b0727b7eee930fab62ee1', 'SubLastTS': '00:10:26', 'SubTSGroup': '1', 'InfoReleaseGroup': '', 'InfoFormat': '', 'InfoOther': '', 'IDSubtitle': '3868082', 'UserID': '1690334', 'SubLanguageID': 'ara', 'SubFormat': 'srt', 'SubSumCD': '1', 'SubAuthorComment': '', 'SubAddDate': '2010-10-05 00:39:41', 'SubBad': '0', 'SubRating': '0.0', 'SubSumVotes': '0', 'SubDownloadsCnt': '1858', 'MovieReleaseName': '', 'MovieFPS': '24.000', 'IDMovie': '61435', 'IDMovieImdb': '1727587', 'MovieName': 'Sintel', 'MovieNameEng': '', 'MovieYear': '2010', 'MovieImdbRating': '7.6', 'SubFeatured': '0', 'UserNickName': 'synotest002', 'SubTranslator': '', 'ISO639': 'ar', 'LanguageName': 'Arabic', 'SubComments': '0', 'SubHearingImpaired': '0', 'UserRank': 'bronze member', 'SeriesSeason': '0', 'SeriesEpisode': '0', 'MovieKind': 'movie', 'SubHD': '0', 'SeriesIMDBParent': '0', 'SubEncoding': 'CP1256', 'SubAutoTranslation': '0', 'SubForeignPartsOnly': '0', 'SubFromTrusted': '0', 'SubTSGroupHash': 'a01c28572e6d59f123d54f663876d0e3', 'SubDownloadLink': 'http://dl.opensubtitles.org/en/download/src-api/vrf-19a70c50/sid-QaBR8I-yIdORO9LcDw6oagOGRga/filead/1952533551.gz', 'ZipDownloadLink': 'http://dl.opensubtitles.org/en/download/src-api/vrf-f55e0bbc/sid-QaBR8I-yIdORO9LcDw6oagOGRga/subad/3868082', 'SubtitlesLink': 'http://www.opensubtitles.org/en/subtitles/3868082/sid-QaBR8I-yIdORO9LcDw6oagOGRga/sintel-ar', 'QueryNumber': '0', 'QueryParameters': {'moviehash': '2ed059a525a94fcd'}, 'Score': 86.01858}, {'MatchedBy': 'moviehash', 'IDSubMovieFile': '1477694', 'MovieHash': '2ed059a525a94fcd', 'MovieByteSize': '310674005', 'MovieTimeMS': '0', 'IDSubtitleFile': '1952528380', 'SubFileName': 'Sintel.2010.2K.SURROUND.x264-VODO.srt', 'SubActualCD': '1', 'SubSize': '1706', 'SubHash': '133d8fb18c1257b9e2cff62c2951a12b', 'SubLastTS': '00:10:26', 'SubTSGroup': '1', 'InfoReleaseGroup': 'VODO', 'InfoFormat': '', 'InfoOther': '', 'IDSubtitle': '3863187', 'UserID': '1267913', 'SubLanguageID': 'pob', 'SubFormat': 'srt', 'SubSumCD': '1', 'SubAuthorComment': '', 'SubAddDate': '2010-10-02 20:31:20', 'SubBad': '0', 'SubRating': '0.0', 'SubSumVotes': '0', 'SubDownloadsCnt': '1355', 'MovieReleaseName': 'Sintel.2010.2K.SURROUND.x264-VODO', 'MovieFPS': '24.000', 'IDMovie': '61435', 'IDMovieImdb': '1727587', 'MovieName': 'Sintel', 'MovieNameEng': '', 'MovieYear': '2010', 'MovieImdbRating': '7.6', 'SubFeatured': '0', 'UserNickName': 'marcioscheibel', 'SubTranslator': '', 'ISO639': 'pb', 'LanguageName': 'Portuguese (BR)', 'SubComments': '0', 'SubHearingImpaired': '0', 'UserRank': 'bronze member', 'SeriesSeason': '0', 'SeriesEpisode': '0', 'MovieKind': 'movie', 'SubHD': '1', 'SeriesIMDBParent': '0', 'SubEncoding': 'CP1252', 'SubAutoTranslation': '0', 'SubForeignPartsOnly': '0', 'SubFromTrusted': '0', 'SubTSGroupHash': 'a01c28572e6d59f123d54f663876d0e3', 'SubDownloadLink': 'http://dl.opensubtitles.org/en/download/src-api/vrf-19b50c54/sid-QaBR8I-yIdORO9LcDw6oagOGRga/filead/1952528380.gz', 'ZipDownloadLink': 'http://dl.opensubtitles.org/en/download/src-api/vrf-f5520bbd/sid-QaBR8I-yIdORO9LcDw6oagOGRga/subad/3863187', 'SubtitlesLink': 'http://www.opensubtitles.org/en/subtitles/3863187/sid-QaBR8I-yIdORO9LcDw6oagOGRga/sintel-pb', 'QueryNumber': '0', 'QueryParameters': {'moviehash': '2ed059a525a94fcd'}, 'Score': 86.01355}]\n",
      "3871796\n",
      "1952537611\n",
      "1340963\n"
     ]
    }
   ],
   "source": [
    "from pythonopensubtitles.opensubtitles import OpenSubtitles\n",
    "from pythonopensubtitles.utils import File\n",
    "\n",
    "ost = OpenSubtitles()\n",
    "token = ost.login('albert_scav', 'albertSCAV123$')\n",
    "print(token)\n",
    "file = File('data/sintel-2048-surround.mp4')\n",
    "hash = file.get_hash()\n",
    "print(hash)\n",
    "size = file.size\n",
    "assert type(size) == str  # As str is easier to deal with long sizes\n",
    "print(size)\n",
    "data = ost.search_subtitles([{'sublanguageid': 'all', 'moviehash': hash}])\n",
    "assert type(data) == list\n",
    "print(data)\n",
    "id_subtitle = data[0].get('IDSubtitle')\n",
    "id_subtitle_file = data[0].get('IDSubtitleFile')\n",
    "id_sub_movie_file = data[0].get('IDSubMovieFile')\n",
    "print(id_subtitle)\n",
    "print(id_subtitle_file)\n",
    "print(id_sub_movie_file)"
   ]
  }
 ],
 "metadata": {
  "kernelspec": {
   "display_name": "Python 3",
   "language": "python",
   "name": "python3"
  },
  "language_info": {
   "codemirror_mode": {
    "name": "ipython",
    "version": 3
   },
   "file_extension": ".py",
   "mimetype": "text/x-python",
   "name": "python",
   "nbconvert_exporter": "python",
   "pygments_lexer": "ipython3",
   "version": "3.10.12"
  }
 },
 "nbformat": 4,
 "nbformat_minor": 2
}
